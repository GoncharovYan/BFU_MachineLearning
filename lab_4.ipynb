{
 "cells": [
  {
   "cell_type": "markdown",
   "source": [
    "# Лабораторная работая №4\n",
    "## Применение логистической регрессии для решения задачи бинарной классификации\n",
    "### Гончаров Ян"
   ],
   "metadata": {
    "collapsed": false
   }
  },
  {
   "cell_type": "markdown",
   "source": [
    "#### Задание 1. Выполнить предобработку данных с помощью Pandas\n",
    "\n",
    "1.1.\t Удалить все строки данных содержащие пропуски.\n",
    "1.2.\t Удалить столбцы содержащие не числовые значения, за исключением столбцов Sex и Embarked\n",
    "1.3.\t Перекодировать данные в числовой вид в столбцах Sex и Embarked. Sex – 0 и 1, Embarked – 1,2,3\n",
    "1.4.\t Удалить столбец PassengerId как не несущий полезной информации.\n",
    "1.5.\t Вычислить процент потерянных данных после выполнения пп 1.1 – 1.2\n",
    "\n",
    "\n",
    "#### Задание 2. Машинное обучение\n",
    "\n",
    "2.1. Разбить полученные данные на обучающую и тестовые выборки\n",
    "2.2. Решить задачу классификации методом логистической регрессии\n",
    "2.3. Вывести точность полученной модели\n",
    "2.4. Оценить влияние признака Embarked на точность модели"
   ],
   "metadata": {
    "collapsed": false
   }
  },
  {
   "cell_type": "markdown",
   "source": [
    "### Выполним предобработку данных с помощью Pandas"
   ],
   "metadata": {
    "collapsed": false
   }
  },
  {
   "cell_type": "code",
   "execution_count": 52,
   "metadata": {
    "collapsed": true
   },
   "outputs": [
    {
     "name": "stdout",
     "output_type": "stream",
     "text": [
      "Процент утерянных данных:  46.727 %\n"
     ]
    },
    {
     "data": {
      "text/plain": "     Survived  Pclass  Sex   Age  SibSp  Parch     Fare  Embarked\n0           0       3    0  22.0      1      0   7.2500         2\n1           1       1    1  38.0      1      0  71.2833         0\n2           1       3    1  26.0      0      0   7.9250         2\n3           1       1    1  35.0      1      0  53.1000         2\n4           0       3    0  35.0      0      0   8.0500         2\n..        ...     ...  ...   ...    ...    ...      ...       ...\n885         0       3    1  39.0      0      5  29.1250         1\n886         0       2    0  27.0      0      0  13.0000         2\n887         1       1    1  19.0      0      0  30.0000         2\n889         1       1    0  26.0      0      0  30.0000         0\n890         0       3    0  32.0      0      0   7.7500         1\n\n[712 rows x 8 columns]",
      "text/html": "<div>\n<style scoped>\n    .dataframe tbody tr th:only-of-type {\n        vertical-align: middle;\n    }\n\n    .dataframe tbody tr th {\n        vertical-align: top;\n    }\n\n    .dataframe thead th {\n        text-align: right;\n    }\n</style>\n<table border=\"1\" class=\"dataframe\">\n  <thead>\n    <tr style=\"text-align: right;\">\n      <th></th>\n      <th>Survived</th>\n      <th>Pclass</th>\n      <th>Sex</th>\n      <th>Age</th>\n      <th>SibSp</th>\n      <th>Parch</th>\n      <th>Fare</th>\n      <th>Embarked</th>\n    </tr>\n  </thead>\n  <tbody>\n    <tr>\n      <th>0</th>\n      <td>0</td>\n      <td>3</td>\n      <td>0</td>\n      <td>22.0</td>\n      <td>1</td>\n      <td>0</td>\n      <td>7.2500</td>\n      <td>2</td>\n    </tr>\n    <tr>\n      <th>1</th>\n      <td>1</td>\n      <td>1</td>\n      <td>1</td>\n      <td>38.0</td>\n      <td>1</td>\n      <td>0</td>\n      <td>71.2833</td>\n      <td>0</td>\n    </tr>\n    <tr>\n      <th>2</th>\n      <td>1</td>\n      <td>3</td>\n      <td>1</td>\n      <td>26.0</td>\n      <td>0</td>\n      <td>0</td>\n      <td>7.9250</td>\n      <td>2</td>\n    </tr>\n    <tr>\n      <th>3</th>\n      <td>1</td>\n      <td>1</td>\n      <td>1</td>\n      <td>35.0</td>\n      <td>1</td>\n      <td>0</td>\n      <td>53.1000</td>\n      <td>2</td>\n    </tr>\n    <tr>\n      <th>4</th>\n      <td>0</td>\n      <td>3</td>\n      <td>0</td>\n      <td>35.0</td>\n      <td>0</td>\n      <td>0</td>\n      <td>8.0500</td>\n      <td>2</td>\n    </tr>\n    <tr>\n      <th>...</th>\n      <td>...</td>\n      <td>...</td>\n      <td>...</td>\n      <td>...</td>\n      <td>...</td>\n      <td>...</td>\n      <td>...</td>\n      <td>...</td>\n    </tr>\n    <tr>\n      <th>885</th>\n      <td>0</td>\n      <td>3</td>\n      <td>1</td>\n      <td>39.0</td>\n      <td>0</td>\n      <td>5</td>\n      <td>29.1250</td>\n      <td>1</td>\n    </tr>\n    <tr>\n      <th>886</th>\n      <td>0</td>\n      <td>2</td>\n      <td>0</td>\n      <td>27.0</td>\n      <td>0</td>\n      <td>0</td>\n      <td>13.0000</td>\n      <td>2</td>\n    </tr>\n    <tr>\n      <th>887</th>\n      <td>1</td>\n      <td>1</td>\n      <td>1</td>\n      <td>19.0</td>\n      <td>0</td>\n      <td>0</td>\n      <td>30.0000</td>\n      <td>2</td>\n    </tr>\n    <tr>\n      <th>889</th>\n      <td>1</td>\n      <td>1</td>\n      <td>0</td>\n      <td>26.0</td>\n      <td>0</td>\n      <td>0</td>\n      <td>30.0000</td>\n      <td>0</td>\n    </tr>\n    <tr>\n      <th>890</th>\n      <td>0</td>\n      <td>3</td>\n      <td>0</td>\n      <td>32.0</td>\n      <td>0</td>\n      <td>0</td>\n      <td>7.7500</td>\n      <td>1</td>\n    </tr>\n  </tbody>\n</table>\n<p>712 rows × 8 columns</p>\n</div>"
     },
     "execution_count": 52,
     "metadata": {},
     "output_type": "execute_result"
    }
   ],
   "source": [
    "import pandas as pd\n",
    "\n",
    "data = pd.read_csv(\"Titanic.csv\")\n",
    "size_before = data.size\n",
    "\n",
    "# Удалим столбцы содержащие не числовые значения, за исключением столбцов Sex и Embarked\n",
    "# А так же удалим столбцы не несущие полезной информации\n",
    "data.drop(labels = ['PassengerId', 'Name', 'Ticket', 'Cabin'], axis = 1, inplace= True)\n",
    "\n",
    "# Удалим все строки данных содержащие пропуски\n",
    "data = data.dropna()\n",
    "size_after = data.size\n",
    "\n",
    "# Вычислим процент потерянных данных\n",
    "print(\"Процент утерянных данных: \", 100 - round(((size_after / size_before) * 100), 3), \"%\")\n",
    "\n",
    "# Перекодируем данные в числовой вид в столбцах Sex и Embarked. Sex – 0 и 1, Embarked – 1,2,3\n",
    "data['Sex'] = data['Sex'].replace(['male', 'female'], [0, 1])\n",
    "data['Embarked'] = data['Embarked'].replace(['C', 'Q', 'S'], [0, 1, 2])\n",
    "data"
   ]
  },
  {
   "cell_type": "markdown",
   "source": [
    "### Машинное обучение"
   ],
   "metadata": {
    "collapsed": false
   }
  },
  {
   "cell_type": "code",
   "execution_count": 53,
   "outputs": [
    {
     "name": "stdout",
     "output_type": "stream",
     "text": [
      "     Actual  Predicted\n",
      "423       0          0\n",
      "178       0          0\n",
      "305       1          1\n",
      "292       0          0\n",
      "592       0          0\n",
      "..      ...        ...\n",
      "267       1          0\n",
      "503       0          0\n",
      "100       0          1\n",
      "268       1          1\n",
      "624       0          0\n",
      "\n",
      "[178 rows x 2 columns]\n",
      "Оценка точности: 0.7921348314606742\n"
     ]
    }
   ],
   "source": [
    "from sklearn.metrics import accuracy_score\n",
    "from sklearn.linear_model import LogisticRegression\n",
    "from sklearn.model_selection import train_test_split\n",
    "\n",
    "X = data.drop(labels='Survived', axis = 1)\n",
    "y = data['Survived']\n",
    "\n",
    "# Разобьём полученные данные на обучающую и тестовые выборки\n",
    "X_train, X_test, y_train, y_test = train_test_split(X, y, random_state=0)\n",
    "\n",
    "# Решим задачу классификации методом логистической регрессии\n",
    "regressor = LogisticRegression(random_state=0, max_iter=1000)\n",
    "regressor.fit(X_train, y_train)\n",
    "y_pred = regressor.predict(X_test)\n",
    "\n",
    "res = pd.DataFrame({'Actual': y_test, 'Predicted': y_pred})\n",
    "print(res)\n",
    "\n",
    "# Выведем точность полученной модели\n",
    "print(\"Оценка точности:\", accuracy_score(y_test, y_pred))"
   ],
   "metadata": {
    "collapsed": false
   }
  },
  {
   "cell_type": "markdown",
   "source": [
    "### Проведём ту же классификацию, но без столбца Embarance"
   ],
   "metadata": {
    "collapsed": false
   }
  },
  {
   "cell_type": "code",
   "execution_count": 54,
   "outputs": [
    {
     "name": "stdout",
     "output_type": "stream",
     "text": [
      "     Actual  Predicted\n",
      "423       0          0\n",
      "178       0          0\n",
      "305       1          1\n",
      "292       0          0\n",
      "592       0          0\n",
      "..      ...        ...\n",
      "267       1          0\n",
      "503       0          1\n",
      "100       0          1\n",
      "268       1          1\n",
      "624       0          0\n",
      "\n",
      "[178 rows x 2 columns]\n",
      "Оценка точности: 0.7808988764044944\n"
     ]
    }
   ],
   "source": [
    "X = data.drop(labels=['Survived', 'Embarked'], axis = 1)\n",
    "y = data['Survived']\n",
    "\n",
    "# Разобьём полученные данные на обучающую и тестовые выборки\n",
    "X_train, X_test, y_train, y_test = train_test_split(X, y, random_state=0)\n",
    "\n",
    "# Решим задачу классификации методом логистической регрессии\n",
    "regressor = LogisticRegression(random_state=0, max_iter=1000)\n",
    "regressor.fit(X_train, y_train)\n",
    "y_pred = regressor.predict(X_test)\n",
    "\n",
    "res = pd.DataFrame({'Actual': y_test, 'Predicted': y_pred})\n",
    "print(res)\n",
    "\n",
    "# Выведем точность полученной модели\n",
    "print(\"Оценка точности:\", accuracy_score(y_test, y_pred))"
   ],
   "metadata": {
    "collapsed": false
   }
  },
  {
   "cell_type": "markdown",
   "source": [
    "Оценка получилась немного хуже, но в районе погрешности\n",
    "\n",
    "Используем функцию permutation_importance из библиотеки sklearn чтобы проверить важность этого признака для нашей модели\n",
    "\n",
    "Это функция будет перемешивать столбцы признаков и оценивать насколько хуже стали оценки по сравнению с нормально обученной моделью. Если точность изменилась не сильно, значит и модель практически не опирается на этот признак."
   ],
   "metadata": {
    "collapsed": false
   }
  },
  {
   "cell_type": "code",
   "execution_count": 55,
   "outputs": [
    {
     "data": {
      "text/plain": "{'importances_mean': array([0.08651685, 0.19691011, 0.0369382 , 0.00800562, 0.00407303,\n        0.00252809, 0.00140449]),\n 'importances_std': array([0.01231158, 0.01675768, 0.00761671, 0.00421582, 0.0015952 ,\n        0.00224719, 0.0030123 ]),\n 'importances': array([[ 0.0997191 ,  0.09129213,  0.08988764,  0.08707865,  0.10955056,\n          0.0744382 ,  0.08567416,  0.06460674,  0.08848315,  0.0744382 ],\n        [ 0.19382022,  0.18117978,  0.1755618 ,  0.20505618,  0.19662921,\n          0.22050562,  0.1741573 ,  0.2261236 ,  0.19101124,  0.20505618],\n        [ 0.03511236,  0.03230337,  0.03792135,  0.01825843,  0.03651685,\n          0.04073034,  0.04213483,  0.04353933,  0.03511236,  0.04775281],\n        [ 0.00842697,  0.00421348,  0.01825843,  0.00702247,  0.00842697,\n          0.00983146,  0.00561798,  0.00983146,  0.00702247,  0.00140449],\n        [ 0.00421348,  0.00421348,  0.00421348,  0.00561798,  0.00140449,\n          0.00140449,  0.00561798,  0.00561798,  0.00280899,  0.00561798],\n        [ 0.00140449,  0.00702247,  0.00280899,  0.00421348,  0.00280899,\n          0.        ,  0.00140449,  0.00280899,  0.00421348, -0.00140449],\n        [ 0.        ,  0.00140449,  0.00842697,  0.00280899,  0.00140449,\n          0.00421348,  0.        , -0.00280899, -0.00140449,  0.        ]])}"
     },
     "execution_count": 55,
     "metadata": {},
     "output_type": "execute_result"
    }
   ],
   "source": [
    "from sklearn.inspection import permutation_importance\n",
    "\n",
    "X = data.drop(labels='Survived', axis = 1)\n",
    "y = data['Survived']\n",
    "\n",
    "# Разобьём полученные данные на обучающую и тестовые выборки\n",
    "X_train, X_test, y_train, y_test = train_test_split(X, y, random_state=0)\n",
    "\n",
    "# Решим задачу классификации методом логистической регрессии\n",
    "regressor = LogisticRegression(random_state=0, max_iter=1000)\n",
    "regressor.fit(X_train, y_train)\n",
    "\n",
    "result = permutation_importance(regressor, X, y, n_repeats=10, random_state=0, scoring='accuracy')\n",
    "\n",
    "result"
   ],
   "metadata": {
    "collapsed": false
   }
  },
  {
   "cell_type": "markdown",
   "source": [
    "Откуда видно, что признак Embarked не является значимым для нашей модели"
   ],
   "metadata": {
    "collapsed": false
   }
  }
 ],
 "metadata": {
  "kernelspec": {
   "display_name": "Python 3",
   "language": "python",
   "name": "python3"
  },
  "language_info": {
   "codemirror_mode": {
    "name": "ipython",
    "version": 2
   },
   "file_extension": ".py",
   "mimetype": "text/x-python",
   "name": "python",
   "nbconvert_exporter": "python",
   "pygments_lexer": "ipython2",
   "version": "2.7.6"
  }
 },
 "nbformat": 4,
 "nbformat_minor": 0
}
