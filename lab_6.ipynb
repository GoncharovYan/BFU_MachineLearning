{
 "cells": [
  {
   "cell_type": "markdown",
   "source": [
    "# Лабораторная работая №6\n",
    "## Исследование кривых обучения и регуляризации\n",
    "### Гончаров Ян"
   ],
   "metadata": {
    "collapsed": false
   }
  },
  {
   "cell_type": "markdown",
   "source": [
    "#### Задание к лабораторной работе.\n",
    "\n",
    "1.\tПостроить и отрисовать кривые обучения для любых 2х моделей - регрессорах.\n",
    "Сделать вывод – какая из моделей более подходит для предложенного датасета,\n",
    "Проанализировать наличие недо- или пере- обученности, выдвинуть предложение о значении целевого показателя выбранной метрики.\n",
    "Отрисовать целевое значение на построенном графике кривых обучения.\n",
    "Для одной из моделей отрисовать кривую обучения относительно ошибки.\n",
    "2.\tПоследовательно выполнить обучение моделей линейной регрессии, гребневой регуляризации (Ridge)  и Lasso регуляризации.\n",
    "Сравнить модели используя несколько метрик.\n",
    "Свести значения весовых коэффициентов в единую таблицу, сделать выводы о коллинеарности данных и о важности имеющихся признаков\n"
   ],
   "metadata": {
    "collapsed": false
   }
  },
  {
   "cell_type": "markdown",
   "source": [
    "#### Загрузим наш датасет"
   ],
   "metadata": {
    "collapsed": false
   }
  },
  {
   "cell_type": "code",
   "execution_count": 17,
   "metadata": {
    "collapsed": true
   },
   "outputs": [
    {
     "data": {
      "text/plain": "        CRIM    ZN  INDUS  CHAS    NOX     RM   AGE     DIS  RAD    TAX  \\\n0    0.00632  18.0   2.31     0  0.538  6.575  65.2  4.0900    1  296.0   \n1    0.02731   0.0   7.07     0  0.469  6.421  78.9  4.9671    2  242.0   \n2    0.02729   0.0   7.07     0  0.469  7.185  61.1  4.9671    2  242.0   \n3    0.03237   0.0   2.18     0  0.458  6.998  45.8  6.0622    3  222.0   \n4    0.06905   0.0   2.18     0  0.458  7.147  54.2  6.0622    3  222.0   \n..       ...   ...    ...   ...    ...    ...   ...     ...  ...    ...   \n501  0.06263   0.0  11.93     0  0.573  6.593  69.1  2.4786    1  273.0   \n502  0.04527   0.0  11.93     0  0.573  6.120  76.7  2.2875    1  273.0   \n503  0.06076   0.0  11.93     0  0.573  6.976  91.0  2.1675    1  273.0   \n504  0.10959   0.0  11.93     0  0.573  6.794  89.3  2.3889    1  273.0   \n505  0.04741   0.0  11.93     0  0.573  6.030  80.8  2.5050    1  273.0   \n\n     PTRATIO       B  LSTAT  MEDV  \n0       15.3  396.90   4.98  24.0  \n1       17.8  396.90   9.14  21.6  \n2       17.8  392.83   4.03  34.7  \n3       18.7  394.63   2.94  33.4  \n4       18.7  396.90   5.33  36.2  \n..       ...     ...    ...   ...  \n501     21.0  391.99   9.67  22.4  \n502     21.0  396.90   9.08  20.6  \n503     21.0  396.90   5.64  23.9  \n504     21.0  393.45   6.48  22.0  \n505     21.0  396.90   7.88  11.9  \n\n[506 rows x 14 columns]",
      "text/html": "<div>\n<style scoped>\n    .dataframe tbody tr th:only-of-type {\n        vertical-align: middle;\n    }\n\n    .dataframe tbody tr th {\n        vertical-align: top;\n    }\n\n    .dataframe thead th {\n        text-align: right;\n    }\n</style>\n<table border=\"1\" class=\"dataframe\">\n  <thead>\n    <tr style=\"text-align: right;\">\n      <th></th>\n      <th>CRIM</th>\n      <th>ZN</th>\n      <th>INDUS</th>\n      <th>CHAS</th>\n      <th>NOX</th>\n      <th>RM</th>\n      <th>AGE</th>\n      <th>DIS</th>\n      <th>RAD</th>\n      <th>TAX</th>\n      <th>PTRATIO</th>\n      <th>B</th>\n      <th>LSTAT</th>\n      <th>MEDV</th>\n    </tr>\n  </thead>\n  <tbody>\n    <tr>\n      <th>0</th>\n      <td>0.00632</td>\n      <td>18.0</td>\n      <td>2.31</td>\n      <td>0</td>\n      <td>0.538</td>\n      <td>6.575</td>\n      <td>65.2</td>\n      <td>4.0900</td>\n      <td>1</td>\n      <td>296.0</td>\n      <td>15.3</td>\n      <td>396.90</td>\n      <td>4.98</td>\n      <td>24.0</td>\n    </tr>\n    <tr>\n      <th>1</th>\n      <td>0.02731</td>\n      <td>0.0</td>\n      <td>7.07</td>\n      <td>0</td>\n      <td>0.469</td>\n      <td>6.421</td>\n      <td>78.9</td>\n      <td>4.9671</td>\n      <td>2</td>\n      <td>242.0</td>\n      <td>17.8</td>\n      <td>396.90</td>\n      <td>9.14</td>\n      <td>21.6</td>\n    </tr>\n    <tr>\n      <th>2</th>\n      <td>0.02729</td>\n      <td>0.0</td>\n      <td>7.07</td>\n      <td>0</td>\n      <td>0.469</td>\n      <td>7.185</td>\n      <td>61.1</td>\n      <td>4.9671</td>\n      <td>2</td>\n      <td>242.0</td>\n      <td>17.8</td>\n      <td>392.83</td>\n      <td>4.03</td>\n      <td>34.7</td>\n    </tr>\n    <tr>\n      <th>3</th>\n      <td>0.03237</td>\n      <td>0.0</td>\n      <td>2.18</td>\n      <td>0</td>\n      <td>0.458</td>\n      <td>6.998</td>\n      <td>45.8</td>\n      <td>6.0622</td>\n      <td>3</td>\n      <td>222.0</td>\n      <td>18.7</td>\n      <td>394.63</td>\n      <td>2.94</td>\n      <td>33.4</td>\n    </tr>\n    <tr>\n      <th>4</th>\n      <td>0.06905</td>\n      <td>0.0</td>\n      <td>2.18</td>\n      <td>0</td>\n      <td>0.458</td>\n      <td>7.147</td>\n      <td>54.2</td>\n      <td>6.0622</td>\n      <td>3</td>\n      <td>222.0</td>\n      <td>18.7</td>\n      <td>396.90</td>\n      <td>5.33</td>\n      <td>36.2</td>\n    </tr>\n    <tr>\n      <th>...</th>\n      <td>...</td>\n      <td>...</td>\n      <td>...</td>\n      <td>...</td>\n      <td>...</td>\n      <td>...</td>\n      <td>...</td>\n      <td>...</td>\n      <td>...</td>\n      <td>...</td>\n      <td>...</td>\n      <td>...</td>\n      <td>...</td>\n      <td>...</td>\n    </tr>\n    <tr>\n      <th>501</th>\n      <td>0.06263</td>\n      <td>0.0</td>\n      <td>11.93</td>\n      <td>0</td>\n      <td>0.573</td>\n      <td>6.593</td>\n      <td>69.1</td>\n      <td>2.4786</td>\n      <td>1</td>\n      <td>273.0</td>\n      <td>21.0</td>\n      <td>391.99</td>\n      <td>9.67</td>\n      <td>22.4</td>\n    </tr>\n    <tr>\n      <th>502</th>\n      <td>0.04527</td>\n      <td>0.0</td>\n      <td>11.93</td>\n      <td>0</td>\n      <td>0.573</td>\n      <td>6.120</td>\n      <td>76.7</td>\n      <td>2.2875</td>\n      <td>1</td>\n      <td>273.0</td>\n      <td>21.0</td>\n      <td>396.90</td>\n      <td>9.08</td>\n      <td>20.6</td>\n    </tr>\n    <tr>\n      <th>503</th>\n      <td>0.06076</td>\n      <td>0.0</td>\n      <td>11.93</td>\n      <td>0</td>\n      <td>0.573</td>\n      <td>6.976</td>\n      <td>91.0</td>\n      <td>2.1675</td>\n      <td>1</td>\n      <td>273.0</td>\n      <td>21.0</td>\n      <td>396.90</td>\n      <td>5.64</td>\n      <td>23.9</td>\n    </tr>\n    <tr>\n      <th>504</th>\n      <td>0.10959</td>\n      <td>0.0</td>\n      <td>11.93</td>\n      <td>0</td>\n      <td>0.573</td>\n      <td>6.794</td>\n      <td>89.3</td>\n      <td>2.3889</td>\n      <td>1</td>\n      <td>273.0</td>\n      <td>21.0</td>\n      <td>393.45</td>\n      <td>6.48</td>\n      <td>22.0</td>\n    </tr>\n    <tr>\n      <th>505</th>\n      <td>0.04741</td>\n      <td>0.0</td>\n      <td>11.93</td>\n      <td>0</td>\n      <td>0.573</td>\n      <td>6.030</td>\n      <td>80.8</td>\n      <td>2.5050</td>\n      <td>1</td>\n      <td>273.0</td>\n      <td>21.0</td>\n      <td>396.90</td>\n      <td>7.88</td>\n      <td>11.9</td>\n    </tr>\n  </tbody>\n</table>\n<p>506 rows × 14 columns</p>\n</div>"
     },
     "execution_count": 17,
     "metadata": {},
     "output_type": "execute_result"
    }
   ],
   "source": [
    "import pandas as pd\n",
    "\n",
    "names = ['CRIM', 'ZN', 'INDUS', 'CHAS', 'NOX', 'RM', 'AGE', 'DIS', 'RAD', 'TAX', 'PTRATIO', 'B', 'LSTAT', 'MEDV']\n",
    "data = pd.read_csv(\"housing.csv\", sep=' ', skipinitialspace=True, names=names)\n",
    "\n",
    "data"
   ]
  },
  {
   "cell_type": "markdown",
   "source": [
    "#### Будем сравнивать две модели:\n",
    "1. Линейная регрессия\n",
    "2. Дерево решений"
   ],
   "metadata": {
    "collapsed": false
   }
  },
  {
   "cell_type": "code",
   "execution_count": 18,
   "outputs": [
    {
     "name": "stdout",
     "output_type": "stream",
     "text": [
      "Tree: \n",
      "R2: 0.6727480725849063 \n",
      "MAE: 3.1021794130970495\n",
      "Linear: \n",
      "R2: 0.6354638433202133 \n",
      "MAE: 3.6683301481357184\n"
     ]
    }
   ],
   "source": [
    "from sklearn.metrics import r2_score, mean_absolute_error\n",
    "from sklearn.model_selection import train_test_split\n",
    "from sklearn.linear_model import LinearRegression\n",
    "from sklearn import tree\n",
    "\n",
    "X = data.drop('MEDV', axis=1)\n",
    "y = data[\"MEDV\"]\n",
    "\n",
    "X_train, X_test, y_train, y_test = train_test_split(X, y, random_state=0)\n",
    "\n",
    "regressor_tree = tree.DecisionTreeRegressor(max_depth=5)\n",
    "regressor_linear = LinearRegression()\n",
    "\n",
    "regressor_tree.fit(X_train, y_train)\n",
    "regressor_linear.fit(X_train, y_train)\n",
    "\n",
    "tree_pred = regressor_tree.predict(X_test)\n",
    "linear_pred = regressor_linear.predict(X_test)\n",
    "\n",
    "tree_r2 = r2_score(y_test, tree_pred)\n",
    "tree_mae = mean_absolute_error(y_test, tree_pred)\n",
    "\n",
    "linear_r2 = r2_score(y_test, linear_pred)\n",
    "linear_mae = mean_absolute_error(y_test, linear_pred)\n",
    "\n",
    "print(\"Tree:\", \"\\nR2:\", tree_r2, \"\\nMAE:\", tree_mae)\n",
    "print(\"Linear:\", \"\\nR2:\", linear_r2, \"\\nMAE:\", linear_mae)"
   ],
   "metadata": {
    "collapsed": false
   }
  },
  {
   "cell_type": "markdown",
   "source": [
    "Оценки R2 примерно одинаковые, но у деревьев при нескольких перезапусках MAE стабильно ниже"
   ],
   "metadata": {
    "collapsed": false
   }
  },
  {
   "cell_type": "markdown",
   "source": [
    "#### Нарисуем кривые обучения, чтобы понять как влияет количество данных выборки на точность наших моделей\n",
    "\n",
    "Будем использовать функцию learning_curve из библиотеки sklearn\n",
    "Она в свою очередь будет использовать кросс-валидацию, то есть разбивать нашу выборку на k частей, после чего увеличивать количество тренировочных данных и повторять процедуру\n",
    "\n",
    "1. [ o ] o o o o ; o [ o ] o o o ; ... ; o o o o [ o ]\n",
    "2. [ o o ] o o o ; o [ o o ] o o ; ... ; o o o [ o o ]\n",
    "...\n",
    "n. [ o o o o ] o ; o [ o o o o ]\n",
    "\n",
    "Для каждой выборки она будет считать оценку нашей модели и усреднять полученные в k разбиениях результаты\n",
    "И построим график, состоящий из n точек, отражающий зависимость точности от количества данных"
   ],
   "metadata": {
    "collapsed": false
   }
  },
  {
   "cell_type": "code",
   "execution_count": 20,
   "outputs": [
    {
     "name": "stdout",
     "output_type": "stream",
     "text": [
      "Training scores for different training sizes [0.97508155 0.97245737 0.965906   0.9681902  0.95748764 0.94377747\n",
      " 0.9436159 ]\n",
      "Testing scores for different training sizes [0.32149137 0.14760225 0.31686242 0.42056397 0.52999864 0.34522185\n",
      " 0.52910209]\n"
     ]
    },
    {
     "data": {
      "text/plain": "<Figure size 640x480 with 1 Axes>",
      "image/png": "[encoded data removed]"
     },
     "metadata": {},
     "output_type": "display_data"
    }
   ],
   "source": [
    "from sklearn.model_selection import learning_curve\n",
    "from matplotlib import pyplot as plt\n",
    "import numpy as np\n",
    "\n",
    "estimator = tree.DecisionTreeRegressor(max_depth=5)\n",
    "\n",
    "train_sizes, train_scores, test_scores = learning_curve(estimator, X, y, train_sizes = [0.2, 0.3, 0.4, 0.5, 0.6, 0.7, 0.8])\n",
    "\n",
    "print(\"Training scores for different training sizes\", np.mean(train_scores, axis = 1))\n",
    "print(\"Testing scores for different training sizes\", np.mean(test_scores, axis = 1))\n",
    "\n",
    "plt.plot(train_sizes,np.mean(train_scores,axis=1))\n",
    "plt.plot(train_sizes,np.mean(test_scores,axis=1))\n",
    "plt.axhline(y = 0.65, color = 'red', linestyle='dashed')\n",
    "plt.show()"
   ],
   "metadata": {
    "collapsed": false
   }
  },
  {
   "cell_type": "code",
   "execution_count": 21,
   "outputs": [
    {
     "name": "stdout",
     "output_type": "stream",
     "text": [
      "Training scores for different training sizes [0.84540585 0.87059282 0.87527265 0.81268829 0.76745878]\n",
      "Testing scores for different training sizes [-3.94865924 -3.32588548 -3.26013995 -2.60633253 -0.88186934]\n"
     ]
    },
    {
     "data": {
      "text/plain": "<Figure size 640x480 with 1 Axes>",
      "image/png": "[encoded data removed]"
     },
     "metadata": {},
     "output_type": "display_data"
    }
   ],
   "source": [
    "estimator = LinearRegression()\n",
    "\n",
    "train_sizes, train_scores, test_scores = learning_curve(estimator, X, y, cv = 10,train_sizes = [0.4, 0.5, 0.6, 0.7, 0.8])\n",
    "\n",
    "print(\"Training scores for different training sizes\", np.mean(train_scores, axis = 1))\n",
    "print(\"Testing scores for different training sizes\", np.mean(test_scores, axis = 1))\n",
    "\n",
    "plt.plot(train_sizes,np.mean(train_scores,axis=1))\n",
    "plt.plot(train_sizes,np.mean(test_scores,axis=1))\n",
    "plt.axhline(y = 0.65, color = 'red', linestyle='dashed')\n",
    "plt.show()"
   ],
   "metadata": {
    "collapsed": false
   }
  },
  {
   "cell_type": "markdown",
   "source": [
    "Видим что при увеличении количества данных, оценка на тренировочных данных падает не сильно, а на тренировочных повышается.\n",
    "Можно сделать вывод, что увеличение количества данных имеет смысл для повышения качества обучения"
   ],
   "metadata": {
    "collapsed": false
   }
  },
  {
   "cell_type": "markdown",
   "source": [
    "#### Проанализируем наличие недо- или пере- обученности"
   ],
   "metadata": {
    "collapsed": false
   }
  },
  {
   "cell_type": "code",
   "execution_count": 22,
   "outputs": [
    {
     "name": "stdout",
     "output_type": "stream",
     "text": [
      "Tree\n",
      "Prediction on train data: 1.9406198990492693\n",
      "Prediction on test data: 3.1021794130970495\n",
      "\n",
      "Linear\n",
      "Prediction on train data: 3.103966858299072\n",
      "Prediction on test data: 3.6683301481357184\n"
     ]
    }
   ],
   "source": [
    "tree_train_predict = regressor_tree.predict(X_train)\n",
    "tree_test_predict = regressor_tree.predict(X_test)\n",
    "\n",
    "tree_train_mae = mean_absolute_error(y_train, tree_train_predict)\n",
    "tree_test_mae = mean_absolute_error(y_test, tree_test_predict)\n",
    "\n",
    "print('Tree')\n",
    "print(\"Prediction on train data:\", tree_train_mae)\n",
    "print(\"Prediction on test data:\", tree_test_mae)\n",
    "\n",
    "linear_train_predict = regressor_linear.predict(X_train)\n",
    "linear_test_predict = regressor_linear.predict(X_test)\n",
    "\n",
    "linear_train_mae = mean_absolute_error(y_train, linear_train_predict)\n",
    "linear_test_mae = mean_absolute_error(y_test, linear_test_predict)\n",
    "\n",
    "print('\\nLinear')\n",
    "print(\"Prediction on train data:\", linear_train_mae)\n",
    "print(\"Prediction on test data:\", linear_test_mae)"
   ],
   "metadata": {
    "collapsed": false
   }
  },
  {
   "cell_type": "markdown",
   "source": [
    "Полученная оценка на тренировочных данных далека от нуля и приблизительно равна оценке на тестовых данных, а значит модель обучена нормально\n",
    "\n",
    "Однако исходя из графиков, модель обученная с помощью дерева кажется переобученной, а модели с линейной регрессией для нормального обучения не хватает данных (скорее всего тоже переобучена)"
   ],
   "metadata": {
    "collapsed": false
   }
  },
  {
   "cell_type": "markdown",
   "source": [
    "#### Регуляризация\n",
    "\n",
    "Так как наши модели переобучены, для стоит применить алгоритмы регуляризации, чтобы привести результаты ближе к оптимальным\n",
    "Сравним обычную линейную регрессию, регуляризацию L2 (Гребневую, Тихонова) и регуляризацию L1 (Lasso)"
   ],
   "metadata": {
    "collapsed": false
   }
  },
  {
   "cell_type": "code",
   "execution_count": 23,
   "outputs": [
    {
     "name": "stdout",
     "output_type": "stream",
     "text": [
      "     Actual  Predicted\n",
      "329    22.6  24.952333\n",
      "371    50.0  23.616997\n",
      "219    23.0  29.205886\n",
      "403     8.3  11.960705\n",
      "78     21.2  21.333620\n",
      "..      ...        ...\n",
      "49     19.4  17.538048\n",
      "498    21.2  21.502223\n",
      "309    20.3  23.632813\n",
      "124    18.8  20.282598\n",
      "306    33.4  35.179734\n",
      "\n",
      "[127 rows x 2 columns]\n",
      "     Actual  Predicted\n",
      "329    22.6  25.004469\n",
      "371    50.0  23.064980\n",
      "219    23.0  28.582591\n",
      "403     8.3  12.063464\n",
      "78     21.2  20.518370\n",
      "..      ...        ...\n",
      "49     19.4  17.155087\n",
      "498    21.2  21.871740\n",
      "309    20.3  23.631599\n",
      "124    18.8  19.800532\n",
      "306    33.4  34.918284\n",
      "\n",
      "[127 rows x 2 columns]\n",
      "     Actual  Predicted\n",
      "329    22.6  24.373933\n",
      "371    50.0  23.900421\n",
      "219    23.0  27.243679\n",
      "403     8.3  14.512951\n",
      "78     21.2  20.468463\n",
      "..      ...        ...\n",
      "49     19.4  19.131644\n",
      "498    21.2  21.837646\n",
      "309    20.3  25.120032\n",
      "124    18.8  20.985547\n",
      "306    33.4  32.189856\n",
      "\n",
      "[127 rows x 2 columns]\n"
     ]
    }
   ],
   "source": [
    "from sklearn.linear_model import Ridge, Lasso\n",
    "\n",
    "X_train, X_test, y_train, y_test = train_test_split(X, y, random_state=0)\n",
    "\n",
    "regressor_linear = LinearRegression()\n",
    "regressor_ridge = Ridge(alpha=2)\n",
    "regressor_lasso = Lasso()\n",
    "\n",
    "regressor_linear.fit(X_train, y_train)\n",
    "regressor_ridge.fit(X_train, y_train)\n",
    "regressor_lasso.fit(X_train, y_train)\n",
    "\n",
    "linear_pred = regressor_linear.predict(X_test)\n",
    "ridge_pred = regressor_ridge.predict(X_test)\n",
    "lasso_pred = regressor_lasso.predict(X_test)\n",
    "\n",
    "linear_res = pd.DataFrame({\"Actual\": y_test, \"Predicted\": linear_pred})\n",
    "ridge_res = pd.DataFrame({\"Actual\": y_test, \"Predicted\": ridge_pred})\n",
    "lasso_res = pd.DataFrame({\"Actual\": y_test, \"Predicted\": lasso_pred})\n",
    "\n",
    "print(linear_res)\n",
    "print(ridge_res)\n",
    "print(lasso_res)"
   ],
   "metadata": {
    "collapsed": false
   }
  },
  {
   "cell_type": "markdown",
   "source": [
    "Посмотрим на ошибки"
   ],
   "metadata": {
    "collapsed": false
   }
  },
  {
   "cell_type": "code",
   "execution_count": 24,
   "outputs": [
    {
     "name": "stdout",
     "output_type": "stream",
     "text": [
      "Linear:\n",
      " MAE: 3.6683301481357184 \n",
      "R2: 0.6354638433202133\n",
      "\n",
      "Ridge:\n",
      " MAE: 3.681997656948208 \n",
      "R2: 0.622212666392356\n",
      "\n",
      "Lasso:\n",
      " MAE: 4.02970124573744 \n",
      "R2: 0.5516247059049908\n"
     ]
    }
   ],
   "source": [
    "linear_mae = mean_absolute_error(y_test, linear_pred)\n",
    "linear_r2 = r2_score(y_test, linear_pred)\n",
    "\n",
    "ridge_mae = mean_absolute_error(y_test, ridge_pred)\n",
    "ridge_r2 = r2_score(y_test, ridge_pred)\n",
    "\n",
    "lasso_mae = mean_absolute_error(y_test, lasso_pred)\n",
    "lasso_r2 = r2_score(y_test, lasso_pred)\n",
    "\n",
    "print(\"Linear:\\n\", \"MAE:\", linear_mae, \"\\nR2:\", linear_r2)\n",
    "print(\"\\nRidge:\\n\", \"MAE:\", ridge_mae, \"\\nR2:\", ridge_r2)\n",
    "print(\"\\nLasso:\\n\", \"MAE:\", lasso_mae, \"\\nR2:\", lasso_r2)"
   ],
   "metadata": {
    "collapsed": false
   }
  },
  {
   "cell_type": "markdown",
   "source": [
    "Линейная модель была переобучена, а с применением регуляризаций показатели метрик стали только хуже\n",
    "я не знаю почему..\n",
    "![title](https://imgur.com/a/qEHTrZZ)\n",
    "\n",
    "Оценим веса:"
   ],
   "metadata": {
    "collapsed": false
   }
  },
  {
   "cell_type": "code",
   "execution_count": 25,
   "outputs": [
    {
     "data": {
      "text/plain": "       Linear     Ridge     Lasso\n0   -0.117735 -0.113791 -0.058738\n1    0.044017  0.046025  0.049994\n2   -0.005768 -0.045730 -0.001589\n3    2.393416  2.214513  0.000000\n4  -15.589421 -5.499684 -0.000000\n5    3.768968  3.795196  0.761785\n6   -0.007035 -0.016623  0.013047\n7   -1.434956 -1.302847 -0.710109\n8    0.240081  0.209589  0.195516\n9   -0.011297 -0.011962 -0.014148\n10  -0.985547 -0.876680 -0.805246\n11   0.008444  0.008941  0.007098\n12  -0.499117 -0.512161 -0.742146",
      "text/html": "<div>\n<style scoped>\n    .dataframe tbody tr th:only-of-type {\n        vertical-align: middle;\n    }\n\n    .dataframe tbody tr th {\n        vertical-align: top;\n    }\n\n    .dataframe thead th {\n        text-align: right;\n    }\n</style>\n<table border=\"1\" class=\"dataframe\">\n  <thead>\n    <tr style=\"text-align: right;\">\n      <th></th>\n      <th>Linear</th>\n      <th>Ridge</th>\n      <th>Lasso</th>\n    </tr>\n  </thead>\n  <tbody>\n    <tr>\n      <th>0</th>\n      <td>-0.117735</td>\n      <td>-0.113791</td>\n      <td>-0.058738</td>\n    </tr>\n    <tr>\n      <th>1</th>\n      <td>0.044017</td>\n      <td>0.046025</td>\n      <td>0.049994</td>\n    </tr>\n    <tr>\n      <th>2</th>\n      <td>-0.005768</td>\n      <td>-0.045730</td>\n      <td>-0.001589</td>\n    </tr>\n    <tr>\n      <th>3</th>\n      <td>2.393416</td>\n      <td>2.214513</td>\n      <td>0.000000</td>\n    </tr>\n    <tr>\n      <th>4</th>\n      <td>-15.589421</td>\n      <td>-5.499684</td>\n      <td>-0.000000</td>\n    </tr>\n    <tr>\n      <th>5</th>\n      <td>3.768968</td>\n      <td>3.795196</td>\n      <td>0.761785</td>\n    </tr>\n    <tr>\n      <th>6</th>\n      <td>-0.007035</td>\n      <td>-0.016623</td>\n      <td>0.013047</td>\n    </tr>\n    <tr>\n      <th>7</th>\n      <td>-1.434956</td>\n      <td>-1.302847</td>\n      <td>-0.710109</td>\n    </tr>\n    <tr>\n      <th>8</th>\n      <td>0.240081</td>\n      <td>0.209589</td>\n      <td>0.195516</td>\n    </tr>\n    <tr>\n      <th>9</th>\n      <td>-0.011297</td>\n      <td>-0.011962</td>\n      <td>-0.014148</td>\n    </tr>\n    <tr>\n      <th>10</th>\n      <td>-0.985547</td>\n      <td>-0.876680</td>\n      <td>-0.805246</td>\n    </tr>\n    <tr>\n      <th>11</th>\n      <td>0.008444</td>\n      <td>0.008941</td>\n      <td>0.007098</td>\n    </tr>\n    <tr>\n      <th>12</th>\n      <td>-0.499117</td>\n      <td>-0.512161</td>\n      <td>-0.742146</td>\n    </tr>\n  </tbody>\n</table>\n</div>"
     },
     "execution_count": 25,
     "metadata": {},
     "output_type": "execute_result"
    }
   ],
   "source": [
    "coefficients = pd.DataFrame({\n",
    "    'Linear': regressor_linear.coef_,\n",
    "    'Ridge': regressor_ridge.coef_,\n",
    "    'Lasso': regressor_lasso.coef_,})\n",
    "\n",
    "coefficients"
   ],
   "metadata": {
    "collapsed": false
   }
  },
  {
   "cell_type": "markdown",
   "source": [
    "Смотря на коэффициенты, преображённые L1 регуляризацией, у нас есть несколько признаков которые совсем или очень мало влияют на точность модели, поэтому она свела или приблизила их к нулю. Точность модели от этого не стала выше, но возможно при изменении параметра альфа это можно изменить.\n",
    "Как правильно подбирать параметр альфа я пока ещё не знаю"
   ],
   "metadata": {
    "collapsed": false
   }
  },
  {
   "cell_type": "markdown",
   "source": [],
   "metadata": {
    "collapsed": false
   }
  }
 ],
 "metadata": {
  "kernelspec": {
   "display_name": "Python 3",
   "language": "python",
   "name": "python3"
  },
  "language_info": {
   "codemirror_mode": {
    "name": "ipython",
    "version": 2
   },
   "file_extension": ".py",
   "mimetype": "text/x-python",
   "name": "python",
   "nbconvert_exporter": "python",
   "pygments_lexer": "ipython2",
   "version": "2.7.6"
  }
 },
 "nbformat": 4,
 "nbformat_minor": 0
}
